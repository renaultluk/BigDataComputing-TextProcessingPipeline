{
 "cells": [
  {
   "cell_type": "code",
   "execution_count": 7,
   "id": "5217eeb1",
   "metadata": {},
   "outputs": [
    {
     "name": "stdout",
     "output_type": "stream",
     "text": [
      "+-----------+--------------------+\n",
      "|Document_id|             Article|\n",
      "+-----------+--------------------+\n",
      "|       8514|CALL FOR PRESENTA...|\n",
      "|       9136|In article <1993M...|\n",
      "|       9138|Geoffrey S. Elbo ...|\n",
      "|       9139|>     There's one...|\n",
      "|       9140|jorge@erex.East.S...|\n",
      "+-----------+--------------------+\n",
      "only showing top 5 rows\n",
      "\n"
     ]
    }
   ],
   "source": [
    "from pyspark.sql import SparkSession\n",
    "import re\n",
    "\n",
    "spark = SparkSession.builder.appName(\"MergeNewsgroupFiles\").getOrCreate()\n",
    "sc = spark.sparkContext\n",
    "\n",
    "def parse_file(content):\n",
    "\n",
    "    pattern = r'Newsgroup:.*\\nDocument_id:\\s*(\\d+)\\nFrom:.*\\nSubject:.*\\n'\n",
    "    matches = list(re.finditer(pattern, content))\n",
    "    documents = []\n",
    "    \n",
    "    for i in range(len(matches)):\n",
    "        document_id = int(matches[i].group(1))\n",
    "\n",
    "        if i < len(matches) - 1:\n",
    "            article = content[matches[i].end():matches[i+1].start()]\n",
    "        else:\n",
    "            article = content[matches[i].end():]\n",
    "        \n",
    "\n",
    "        article = article.strip()\n",
    "\n",
    "        article_lines = article.split('\\n')\n",
    "        while article_lines and any(article_lines[0].startswith(header) for header in \n",
    "                                    ('Archive-name:', 'Alt-atheism-archive-name:', 'Last-modified:', 'Version:')):\n",
    "            article_lines.pop(0)\n",
    "\n",
    "        article = '\\n'.join(article_lines).strip()\n",
    "        \n",
    "        documents.append((document_id, article))\n",
    "    \n",
    "    return documents\n",
    "\n",
    "rdd = sc.wholeTextFiles(\"*.txt\")\n",
    "\n",
    "documents_rdd = rdd.flatMap(lambda x: parse_file(x[1]))\n",
    "\n",
    "df = documents_rdd.toDF([\"Document_id\", \"Article\"])\n",
    "df = df.orderBy(\"Document_id\")\n",
    "\n",
    "df.show(5)\n"
   ]
  },
  {
   "cell_type": "code",
   "execution_count": 8,
   "id": "ab7c768d",
   "metadata": {},
   "outputs": [
    {
     "name": "stdout",
     "output_type": "stream",
     "text": [
      "Document_id: 8514\n",
      "Article:\n",
      "CALL FOR PRESENTATIONS\n",
      "\t\n",
      "      NAVY SCIENTIFIC VISUALIZATION AND VIRTUAL REALITY SEMINAR\n",
      "\n",
      "\t\t\tTuesday, June 22, 1993\n",
      "\n",
      "\t    Carderock Division, Naval Surface Warfare Center\n",
      "\t      (formerly the David Taylor Research Center)\n",
      "\t\t\t  Bethesda, Maryland\n",
      "\n",
      "SPONSOR: NESS (Navy Engineering Software System) is sponsoring a \n",
      "one-day Navy Scientific Visualization and Virtual Reality Seminar.  \n",
      "The purpose of the seminar is to present and exchange information for\n",
      "Navy-related scientific visualization and virtual reality programs, \n",
      "research, developments, and applications.\n",
      "\n",
      "PRESENTATIONS: Presentations are solicited on all aspects of \n",
      "Navy-related scientific visualization and virtual reality.  All \n",
      "current work, works-in-progress, and proposed work by Navy \n",
      "organizations will be considered.  Four types of presentations are \n",
      "available.\n",
      "\n",
      "     1. Regular presentation: 20-30 minutes in length\n",
      "     2. Short presentation: 10 minutes in length\n",
      "     3. Video presentation: a stand-alone videotape (author need not \n",
      "\tattend the seminar)\n",
      "     4. Scientific visualization or virtual reality demonstration (BYOH)\n",
      "\n",
      "Accepted presentations will not be published in any proceedings, \n",
      "however, viewgraphs and other materials will be reproduced for \n",
      "seminar attendees.\n",
      "\n",
      "ABSTRACTS: Authors should submit a one page abstract and/or videotape to:\n",
      "\n",
      "     Robert Lipman\n",
      "     Naval Surface Warfare Center, Carderock Division\n",
      "     Code 2042\n",
      "     Bethesda, Maryland  20084-5000\n",
      "\n",
      "     VOICE (301) 227-3618;  FAX (301) 227-5753  \n",
      "     E-MAIL  lipman@oasys.dt.navy.mil\n",
      "\n",
      "Authors should include the type of presentation, their affiliations, \n",
      "addresses, telephone and FAX numbers, and addresses.  Multi-author \n",
      "papers should designate one point of contact.\n",
      "\n",
      "DEADLINES: The abstact submission deadline is April 30, 1993.  \n",
      "Notification of acceptance will be sent by May 14, 1993.  \n",
      "Materials for reproduction must be received by June 1, 1993.\n",
      "\n",
      "For further information, contact Robert Lipman at the above address.\n",
      "\n",
      "\t  PLEASE DISTRIBUTE AS WIDELY AS POSSIBLE, THANKS.\n",
      "\n",
      "\n",
      "\n",
      "\n",
      "Robert Lipman                     | Internet: lipman@oasys.dt.navy.mil\n",
      "David Taylor Model Basin - CDNSWC |       or: lip@ocean.dt.navy.mil\n",
      "Computational Signatures and      | Voicenet: (301) 227-3618\n",
      "   Structures Group, Code 2042    | Factsnet: (301) 227-5753\n",
      "Bethesda, Maryland  20084-5000    | Phishnet: stockings@long.legs\n",
      "\t\t\t\t   \n",
      "The sixth sick shiek's sixth sheep's sick.\n"
     ]
    }
   ],
   "source": [
    "if df.count() > 0:\n",
    "    first_row = df.first()\n",
    "    print(f\"Document_id: {first_row['Document_id']}\")\n",
    "    print(f\"Article:\\n{first_row['Article']}\")\n",
    "else:\n",
    "    print(\"The DataFrame is empty.\")"
   ]
  },
  {
   "cell_type": "code",
   "execution_count": 9,
   "id": "9ee9ddfb",
   "metadata": {},
   "outputs": [
    {
     "data": {
      "text/plain": [
       "18299"
      ]
     },
     "execution_count": 9,
     "metadata": {},
     "output_type": "execute_result"
    }
   ],
   "source": [
    "df.count()"
   ]
  },
  {
   "cell_type": "code",
   "execution_count": 10,
   "id": "2b2da463",
   "metadata": {},
   "outputs": [
    {
     "name": "stdout",
     "output_type": "stream",
     "text": [
      "df_Mid_Size has been exported to 'df_Mid_Size.csv'\n"
     ]
    }
   ],
   "source": [
    "df.coalesce(1).write.csv('df_Mid_Size.csv', mode='overwrite', header=True)\n",
    "\n",
    "print(\"df_Mid_Size has been exported to 'df_Mid_Size.csv'\")"
   ]
  },
  {
   "cell_type": "code",
   "execution_count": null,
   "id": "27eb3eef-47e4-4ddf-a15d-9d1823794afe",
   "metadata": {},
   "outputs": [],
   "source": []
  }
 ],
 "metadata": {
  "kernelspec": {
   "display_name": "Python 3 (ipykernel)",
   "language": "python",
   "name": "python3"
  },
  "language_info": {
   "codemirror_mode": {
    "name": "ipython",
    "version": 3
   },
   "file_extension": ".py",
   "mimetype": "text/x-python",
   "name": "python",
   "nbconvert_exporter": "python",
   "pygments_lexer": "ipython3",
   "version": "3.11.12"
  }
 },
 "nbformat": 4,
 "nbformat_minor": 5
}
